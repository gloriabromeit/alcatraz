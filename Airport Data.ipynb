{
 "cells": [
  {
   "cell_type": "code",
   "execution_count": 1,
   "metadata": {},
   "outputs": [],
   "source": [
    "import requests\n",
    "import json\n",
    "from pprint import pprint\n",
    "import numpy as np\n",
    "import pandas as pd "
   ]
  },
  {
   "cell_type": "code",
   "execution_count": 2,
   "metadata": {},
   "outputs": [
    {
     "name": "stdout",
     "output_type": "stream",
     "text": [
      "https://v4p4sz5ijk.execute-api.us-east-1.amazonaws.com/anbdata/airports/traffic/departure-stats?api_key=1d820730-a43a-11e9-8ba5-19b2d1f43f82&airports=&states=CAN&format=json&Year=\n"
     ]
    }
   ],
   "source": [
    "base = \"https://v4p4sz5ijk.execute-api.us-east-1.amazonaws.com/anbdata/airports/traffic/departure-stats?api_key=1d820730-a43a-11e9-8ba5-19b2d1f43f82&airports=&states=CAN&format=json&Year=\"\n",
    "\n",
    "\n",
    "#print(requests.get(base).json())\n",
    "#response = requests.get(base).json()\n",
    "#print(json.dumps(response, indent=4, sort_keys=True))\n",
    "\n",
    "response = requests.get(base)\n",
    "print(response.url)"
   ]
  },
  {
   "cell_type": "code",
   "execution_count": 3,
   "metadata": {},
   "outputs": [],
   "source": [
    "data = response.json()\n",
    "# pprint(data)"
   ]
  },
  {
   "cell_type": "code",
   "execution_count": 4,
   "metadata": {},
   "outputs": [
    {
     "data": {
      "text/plain": [
       "3165"
      ]
     },
     "execution_count": 4,
     "metadata": {},
     "output_type": "execute_result"
    }
   ],
   "source": [
    "len(data)"
   ]
  },
  {
   "cell_type": "code",
   "execution_count": 5,
   "metadata": {},
   "outputs": [],
   "source": [
    "connections = []\n",
    "departures = []\n",
    "name = []\n",
    "year = []\n",
    "\n",
    "for i in range(len(data)):\n",
    "    connections.append(data[i][\"Connections\"])\n",
    "    departures.append(data[i][\"Departures\"])\n",
    "    name.append(data[i][\"AirportName\"])\n",
    "    year.append(data[i][\"Year\"])\n"
   ]
  },
  {
   "cell_type": "code",
   "execution_count": 6,
   "metadata": {},
   "outputs": [],
   "source": [
    "# year"
   ]
  },
  {
   "cell_type": "code",
   "execution_count": 7,
   "metadata": {},
   "outputs": [],
   "source": [
    "new_df = pd.DataFrame({\"AirportName\" : name, \"Number of Departures\" : departures, \"Number of Connections\" : connections, \"Year\" : year })\n",
    "new_df.to_csv(\"CSV_files/Airport-data.csv\")"
   ]
  },
  {
   "cell_type": "code",
   "execution_count": null,
   "metadata": {},
   "outputs": [],
   "source": []
  }
 ],
 "metadata": {
  "kernelspec": {
   "display_name": "Python 3",
   "language": "python",
   "name": "python3"
  },
  "language_info": {
   "codemirror_mode": {
    "name": "ipython",
    "version": 3
   },
   "file_extension": ".py",
   "mimetype": "text/x-python",
   "name": "python",
   "nbconvert_exporter": "python",
   "pygments_lexer": "ipython3",
   "version": "3.7.3"
  }
 },
 "nbformat": 4,
 "nbformat_minor": 2
}
