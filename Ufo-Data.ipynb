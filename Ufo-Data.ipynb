{
 "cells": [
  {
   "cell_type": "code",
   "execution_count": 69,
   "metadata": {},
   "outputs": [],
   "source": [
    "import json\n",
    "import pandas as pd\n",
    "import numpy as np\n",
    "import matplotlib.pyplot as plt\n",
    "import requests as rp\n",
    "import gmaps\n",
    "from config import gkey\n",
    "import scipy.stats as stats"
   ]
  },
  {
   "cell_type": "code",
   "execution_count": 3,
   "metadata": {},
   "outputs": [],
   "source": [
    "base = \"http://ufo-api.herokuapp.com/api/sightings/location/near?\"\n",
    "Ontario_lat_max = 56.800878\n",
    "Ontario_lat_min = 41.771312\n",
    "Ontario_lng_max = -75.251467\n",
    "Ontario_lng_min = -95.281572\n",
    "\n",
    "lats = np.random.uniform(low=-90, high=90, size=2000)\n",
    "lngs = np.random.uniform(low=-90, high=90, size=2000)\n"
   ]
  },
  {
   "cell_type": "code",
   "execution_count": 4,
   "metadata": {},
   "outputs": [
    {
     "data": {
      "text/plain": [
       "(2000, 2000)"
      ]
     },
     "execution_count": 4,
     "metadata": {},
     "output_type": "execute_result"
    }
   ],
   "source": [
    "len(lats), len(lngs)"
   ]
  },
  {
   "cell_type": "code",
   "execution_count": 5,
   "metadata": {
    "scrolled": true
   },
   "outputs": [
    {
     "name": "stdout",
     "output_type": "stream",
     "text": [
      "finished\n"
     ]
    }
   ],
   "source": [
    "city = []\n",
    "shape = []\n",
    "state = []\n",
    "date = []\n",
    "duration = []\n",
    "lats_ON = []\n",
    "lngs_ON = []\n",
    "for i in np.arange(0,len(lats)):\n",
    "    try:\n",
    "        responce = rp.get(f\"{base}lat={lats[i]}&lon={lngs[i]}&limit=1\").json()\n",
    "#         if responce[\"sightings\"][0][\"obj\"][\"state\"] == \"ON\":\n",
    "        city.append(responce[\"sightings\"][0][\"obj\"][\"city\"])\n",
    "        shape.append(responce[\"sightings\"][0][\"obj\"][\"shape\"])\n",
    "        state.append(responce[\"sightings\"][0][\"obj\"][\"state\"])\n",
    "        date.append(responce[\"sightings\"][0][\"obj\"][\"date\"])\n",
    "        duration.append(responce[\"sightings\"][0][\"obj\"][\"duration\"])\n",
    "        lats_ON.append(responce[\"sightings\"][0][\"obj\"][\"loc\"][1])\n",
    "        lngs_ON.append(responce[\"sightings\"][0][\"obj\"][\"loc\"][0])\n",
    "    except Exception as e:\n",
    "        print(\"could not find\")\n",
    "print(\"finished\")"
   ]
  },
  {
   "cell_type": "code",
   "execution_count": 6,
   "metadata": {
    "scrolled": true
   },
   "outputs": [
    {
     "data": {
      "text/html": [
       "<div>\n",
       "<style scoped>\n",
       "    .dataframe tbody tr th:only-of-type {\n",
       "        vertical-align: middle;\n",
       "    }\n",
       "\n",
       "    .dataframe tbody tr th {\n",
       "        vertical-align: top;\n",
       "    }\n",
       "\n",
       "    .dataframe thead th {\n",
       "        text-align: right;\n",
       "    }\n",
       "</style>\n",
       "<table border=\"1\" class=\"dataframe\">\n",
       "  <thead>\n",
       "    <tr style=\"text-align: right;\">\n",
       "      <th></th>\n",
       "      <th>lat</th>\n",
       "      <th>lng</th>\n",
       "      <th>city</th>\n",
       "      <th>shape</th>\n",
       "      <th>state</th>\n",
       "      <th>date</th>\n",
       "      <th>duration</th>\n",
       "      <th>strength</th>\n",
       "      <th>Normalised</th>\n",
       "    </tr>\n",
       "  </thead>\n",
       "  <tbody>\n",
       "    <tr>\n",
       "      <th>0</th>\n",
       "      <td>9.413042</td>\n",
       "      <td>-84.069955</td>\n",
       "      <td>Quepos (Costa Rica)</td>\n",
       "      <td>Disk</td>\n",
       "      <td></td>\n",
       "      <td>1982-06-01T16:00:00.000Z</td>\n",
       "      <td>1hr</td>\n",
       "      <td>4</td>\n",
       "      <td>0.20</td>\n",
       "    </tr>\n",
       "    <tr>\n",
       "      <th>1</th>\n",
       "      <td>-41.471851</td>\n",
       "      <td>-72.939613</td>\n",
       "      <td>Puerto Montt (Chile)</td>\n",
       "      <td>Light</td>\n",
       "      <td></td>\n",
       "      <td>2011-01-28T21:00:00.000Z</td>\n",
       "      <td>1 minute</td>\n",
       "      <td>13</td>\n",
       "      <td>0.65</td>\n",
       "    </tr>\n",
       "    <tr>\n",
       "      <th>2</th>\n",
       "      <td>2.889443</td>\n",
       "      <td>-73.783892</td>\n",
       "      <td>Columbia</td>\n",
       "      <td>Circle</td>\n",
       "      <td></td>\n",
       "      <td>2014-01-23T11:00:00.000Z</td>\n",
       "      <td></td>\n",
       "      <td>5</td>\n",
       "      <td>0.25</td>\n",
       "    </tr>\n",
       "    <tr>\n",
       "      <th>3</th>\n",
       "      <td>-34.481009</td>\n",
       "      <td>-54.336561</td>\n",
       "      <td>Rocha (Uruguay)</td>\n",
       "      <td>Fireball</td>\n",
       "      <td></td>\n",
       "      <td>2009-05-14T19:20:00.000Z</td>\n",
       "      <td>30 seconds</td>\n",
       "      <td>12</td>\n",
       "      <td>0.60</td>\n",
       "    </tr>\n",
       "    <tr>\n",
       "      <th>4</th>\n",
       "      <td>-42.882509</td>\n",
       "      <td>147.328123</td>\n",
       "      <td>Hobart</td>\n",
       "      <td>Light</td>\n",
       "      <td>IN</td>\n",
       "      <td>2016-05-20T21:00:00.000Z</td>\n",
       "      <td>15+ seconds</td>\n",
       "      <td>7</td>\n",
       "      <td>0.35</td>\n",
       "    </tr>\n",
       "  </tbody>\n",
       "</table>\n",
       "</div>"
      ],
      "text/plain": [
       "         lat         lng                  city     shape state  \\\n",
       "0   9.413042  -84.069955   Quepos (Costa Rica)      Disk         \n",
       "1 -41.471851  -72.939613  Puerto Montt (Chile)     Light         \n",
       "2   2.889443  -73.783892              Columbia    Circle         \n",
       "3 -34.481009  -54.336561       Rocha (Uruguay)  Fireball         \n",
       "4 -42.882509  147.328123                Hobart     Light    IN   \n",
       "\n",
       "                       date     duration  strength  Normalised  \n",
       "0  1982-06-01T16:00:00.000Z          1hr         4        0.20  \n",
       "1  2011-01-28T21:00:00.000Z     1 minute        13        0.65  \n",
       "2  2014-01-23T11:00:00.000Z                      5        0.25  \n",
       "3  2009-05-14T19:20:00.000Z   30 seconds        12        0.60  \n",
       "4  2016-05-20T21:00:00.000Z  15+ seconds         7        0.35  "
      ]
     },
     "execution_count": 6,
     "metadata": {},
     "output_type": "execute_result"
    }
   ],
   "source": [
    "Combined = pd.DataFrame({\"lat\":lats_ON,\"lng\":lngs_ON,\"city\":city,\"shape\":shape,\"state\":state,\"date\":date,\"duration\":duration})\n",
    "cities_strength = Combined.groupby(\"city\").count()\n",
    "cities_strength = cities_strength.reset_index()\n",
    "Combined = Combined.drop_duplicates(\"city\")\n",
    "cities_strength.set_index(\"city\",inplace = True)\n",
    "cities_strength = pd.DataFrame(cities_strength.loc[Combined[\"city\"],\"lat\"])\n",
    "cities_strength.reset_index(inplace = True)\n",
    "cities_strength.rename(columns = {\"lat\":\"strength\"},inplace=True)\n",
    "cities_strength[\"Normalised\"] = (cities_strength[\"strength\"]/cities_strength[\"strength\"].sum())*100\n",
    "Combined = pd.merge(Combined,cities_strength,on=\"city\")\n",
    "Combined.head()"
   ]
  },
  {
   "cell_type": "code",
   "execution_count": 18,
   "metadata": {},
   "outputs": [],
   "source": [
    "gkey = \"\"\n",
    "gmaps.configure(api_key=gkey)\n",
    "figure_layout = {\n",
    "    'width': '400px',\n",
    "    'height': '300px',\n",
    "    'border': '1px solid black',\n",
    "    'padding': '1px',\n",
    "    'margin': '0 auto 0 auto'\n",
    "}\n",
    "fig = gmaps.figure(layout=figure_layout)"
   ]
  },
  {
   "cell_type": "code",
   "execution_count": 35,
   "metadata": {
    "scrolled": true
   },
   "outputs": [],
   "source": [
    "\n",
    "coordinates = Combined[[\"lat\",\"lng\"]]\n",
    "# coordinates\n",
    "# markers = gmaps.marker_layer(coordinates)\n",
    "# # Add the layer to the map\n",
    "# fig.add_layer(markers)\n",
    "# fig\n",
    "# Combined[Combined[\"lat\"]<=-50]"
   ]
  },
  {
   "cell_type": "code",
   "execution_count": 47,
   "metadata": {},
   "outputs": [
    {
     "data": {
      "application/vnd.jupyter.widget-view+json": {
       "model_id": "4875e28ec8fd4121a3915cb7e32188f6",
       "version_major": 2,
       "version_minor": 0
      },
      "text/plain": [
       "Figure(layout=FigureLayout(border='1px solid black', height='300px', margin='0 auto 0 auto', padding='1px', wi…"
      ]
     },
     "metadata": {},
     "output_type": "display_data"
    }
   ],
   "source": [
    "\n",
    "heat_layer = gmaps.heatmap_layer(coordinates, weights=Combined[\"strength\"], \n",
    "                                 dissipating=False, max_intensity=100,\n",
    "                                 point_radius = 1.0)\n",
    "\n",
    "# Adjust heat_layer setting to help with heatmap dissipating on zoom\n",
    "heat_layer.dissipating = False\n",
    "heat_layer.max_intensity = 1000\n",
    "heat_layer.point_radius = 5\n",
    "\n",
    "fig.add_layer(heat_layer)\n",
    "\n",
    "fig\n"
   ]
  },
  {
   "cell_type": "code",
   "execution_count": 50,
   "metadata": {},
   "outputs": [
    {
     "data": {
      "text/plain": [
       "<matplotlib.axes._subplots.AxesSubplot at 0x19a225bfe48>"
      ]
     },
     "execution_count": 50,
     "metadata": {},
     "output_type": "execute_result"
    },
    {
     "data": {
      "image/png": "[encoded data removed]",
      "text/plain": [
       "<Figure size 1440x720 with 1 Axes>"
      ]
     },
     "metadata": {
      "needs_background": "light"
     },
     "output_type": "display_data"
    }
   ],
   "source": [
    "Combined.boxplot(\"strength\", by=\"shape\", figsize=(20, 10))"
   ]
  },
  {
   "cell_type": "code",
   "execution_count": 79,
   "metadata": {},
   "outputs": [
    {
     "data": {
      "text/plain": [
       "(array([0.42682927, 0.06097561, 0.0152439 , 0.0152439 , 0.0152439 ,\n",
       "        0.0152439 , 0.        , 0.0152439 , 0.04573171, 0.0152439 ]),\n",
       " array([ 1. ,  2.6,  4.2,  5.8,  7.4,  9. , 10.6, 12.2, 13.8, 15.4, 17. ]),\n",
       " <a list of 10 Patch objects>)"
      ]
     },
     "execution_count": 79,
     "metadata": {},
     "output_type": "execute_result"
    },
    {
     "data": {
      "image/png": "[encoded data removed]",
      "text/plain": [
       "<Figure size 432x288 with 1 Axes>"
      ]
     },
     "metadata": {
      "needs_background": "light"
     },
     "output_type": "display_data"
    }
   ],
   "source": [
    "Combined[Combined[\"shape\"]==\"Disk\"][\"strength\"]\n",
    "plt.hist(Combined[Combined[\"shape\"]==\"Disk\"][\"strength\"], 10, density=True, alpha=0.7, label=\"population1\")\n",
    "plt.hist(Combined[Combined[\"shape\"]==\"Fireball\"][\"strength\"], 10, density=True, alpha=0.7, label=\"population1\")\n",
    "plt.hist(Combined[Combined[\"shape\"]==\"Circle\"][\"strength\"], 10, density=True, alpha=0.7, label=\"population1\")\n",
    "# plt.hist(Combined[Combined[\"shape\"]==\"Egg\"][\"strength\"], 10, density=True, alpha=0.7, label=\"population1\")"
   ]
  },
  {
   "cell_type": "code",
   "execution_count": 78,
   "metadata": {},
   "outputs": [
    {
     "data": {
      "text/plain": [
       "F_onewayResult(statistic=3.7673670630138885, pvalue=0.027662742470443095)"
      ]
     },
     "execution_count": 78,
     "metadata": {},
     "output_type": "execute_result"
    }
   ],
   "source": [
    "stats.f_oneway(Combined[Combined[\"shape\"]==\"Disk\"][\"strength\"],Combined[Combined[\"shape\"]==\"Fireball\"][\"strength\"],Combined[Combined[\"shape\"]==\"Egg\"][\"strength\"])"
   ]
  },
  {
   "cell_type": "code",
   "execution_count": null,
   "metadata": {},
   "outputs": [],
   "source": []
  }
 ],
 "metadata": {
  "kernelspec": {
   "display_name": "Python 3",
   "language": "python",
   "name": "python3"
  },
  "language_info": {
   "codemirror_mode": {
    "name": "ipython",
    "version": 3
   },
   "file_extension": ".py",
   "mimetype": "text/x-python",
   "name": "python",
   "nbconvert_exporter": "python",
   "pygments_lexer": "ipython3",
   "version": "3.7.3"
  }
 },
 "nbformat": 4,
 "nbformat_minor": 2
}
