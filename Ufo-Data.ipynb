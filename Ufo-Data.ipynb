{
 "cells": [
  {
   "cell_type": "code",
   "execution_count": 4,
   "metadata": {},
   "outputs": [],
   "source": [
    "import json\n",
    "import pandas as pd\n",
    "import numpy as np\n",
    "import matplotlib.pyplot as plt\n",
    "import requests as rp\n",
    "import gmaps\n",
    "from config import gkey\n",
    "import scipy.stats as stats"
   ]
  },
  {
   "cell_type": "code",
   "execution_count": 5,
   "metadata": {},
   "outputs": [],
   "source": [
    "base = \"http://ufo-api.herokuapp.com/api/sightings/location/near?\"\n",
    "Ontario_lat_max = 56.800878\n",
    "Ontario_lat_min = 41.771312\n",
    "Ontario_lng_max = -75.251467\n",
    "Ontario_lng_min = -95.281572\n",
    "\n",
    "lats = np.random.uniform(low=Ontario_lat_min, high=Ontario_lat_max, size=20)\n",
    "lngs = np.random.uniform(low=Ontario_lng_min, high=Ontario_lng_max, size=20)\n"
   ]
  },
  {
   "cell_type": "code",
   "execution_count": 6,
   "metadata": {},
   "outputs": [
    {
     "data": {
      "text/plain": [
       "(20, 20)"
      ]
     },
     "execution_count": 6,
     "metadata": {},
     "output_type": "execute_result"
    }
   ],
   "source": [
    "len(lats),len(lngs)"
   ]
  },
  {
   "cell_type": "code",
   "execution_count": 8,
   "metadata": {
    "scrolled": true
   },
   "outputs": [
    {
     "name": "stdout",
     "output_type": "stream",
     "text": [
      "could not find\n",
      "could not find\n",
      "could not find\n",
      "could not find\n",
      "could not find\n",
      "could not find\n",
      "could not find\n",
      "could not find\n",
      "could not find\n",
      "could not find\n",
      "could not find\n",
      "could not find\n",
      "could not find\n",
      "could not find\n",
      "could not find\n",
      "could not find\n",
      "could not find\n",
      "could not find\n",
      "could not find\n",
      "could not find\n",
      "finished\n"
     ]
    }
   ],
   "source": [
    "city = []\n",
    "shape = []\n",
    "state = []\n",
    "date = []\n",
    "duration = []\n",
    "lats_ON = []\n",
    "lngs_ON = []\n",
    "return_count = 1\n",
    "for i in np.arange(0,len(lats)):\n",
    "    try:\n",
    "        responce = rp.get(f\"{base}lat={lats[i]}&lon={lngs[i]}&limit={return_count}\").json()\n",
    "        for i in range(return_count):\n",
    "            if responce[\"sightings\"][i][\"obj\"][\"state\"] == \"ON\" and (responce[\"sightings\"][i][\"obj\"][\"date\"] in date) == False:\n",
    "                city.append(responce[\"sightings\"][i][\"obj\"][\"city\"])\n",
    "                shape.append(responce[\"sightings\"][i][\"obj\"][\"shape\"])\n",
    "                state.append(responce[\"sightings\"][i][\"obj\"][\"state\"])\n",
    "                date.append(responce[\"sightings\"][i][\"obj\"][\"date\"])\n",
    "                duration.append(responce[\"sightings\"][i][\"obj\"][\"duration\"])\n",
    "                lats_ON.append(responce[\"sightings\"][i][\"obj\"][\"loc\"][1])\n",
    "                lngs_ON.append(responce[\"sightings\"][i][\"obj\"][\"loc\"][0])\n",
    "                break\n",
    "    except Exception as e:\n",
    "        print(\"could not find\")\n",
    "print(\"finished\")"
   ]
  },
  {
   "cell_type": "code",
   "execution_count": null,
   "metadata": {},
   "outputs": [],
   "source": [
    "responce"
   ]
  },
  {
   "cell_type": "code",
   "execution_count": null,
   "metadata": {
    "scrolled": true
   },
   "outputs": [],
   "source": [
    "Combined = pd.DataFrame({\"lat\":lats_ON,\"lng\":lngs_ON,\"city\":city,\"state\":state,\"date\":date})\n",
    "cities_strength = Combined.groupby(\"city\").count()\n",
    "cities_strength = cities_strength.reset_index()\n",
    "Total_data = Combined\n",
    "Combined = Combined.drop_duplicates(\"city\")\n",
    "cities_strength.set_index(\"city\",inplace = True)\n",
    "cities_strength = pd.DataFrame(cities_strength.loc[Combined[\"city\"],\"lat\"])\n",
    "cities_strength.reset_index(inplace = True)\n",
    "cities_strength.rename(columns = {\"lat\":\"strength\"},inplace=True)\n",
    "cities_strength[\"Normalised\"] = (cities_strength[\"strength\"]/cities_strength[\"strength\"].sum())*100\n",
    "Combined = pd.merge(Combined,cities_strength,on=\"city\")\n",
    "len(Combined),len(Total_data)"
   ]
  },
  {
   "cell_type": "code",
   "execution_count": null,
   "metadata": {},
   "outputs": [],
   "source": [
    "Combined"
   ]
  },
  {
   "cell_type": "code",
   "execution_count": null,
   "metadata": {},
   "outputs": [],
   "source": [
    "#cleaning combined dataframe based on date \n",
    "Combined['year'] = pd.DatetimeIndex(Combined['date']).year\n",
    "Combined['month'] = pd.DatetimeIndex(Combined['date']).month\n",
    "Total_data['year'] = pd.DatetimeIndex(Total_data['date']).year\n",
    "Total_data['month'] = pd.DatetimeIndex(Total_data['date']).month\n",
    "# Combined.head()\n",
    "\n",
    "\n",
    "Combined.to_csv(\"CSV_files/Ufo-Data.csv\",index=False)\n",
    "Total_data.to_csv(\"CSV_files/Duplicate-data.csv\",index=False)"
   ]
  },
  {
   "cell_type": "code",
   "execution_count": null,
   "metadata": {},
   "outputs": [],
   "source": [
    "# gkey = \"\"\n",
    "# gmaps.configure(api_key=gkey)\n",
    "# figure_layout = {\n",
    "#     'width': '400px',\n",
    "#     'height': '300px',\n",
    "#     'border': '1px solid black',\n",
    "#     'padding': '1px',\n",
    "#     'margin': '0 auto 0 auto'\n",
    "# }\n",
    "# fig = gmaps.figure(layout=figure_layout)"
   ]
  },
  {
   "cell_type": "code",
   "execution_count": null,
   "metadata": {
    "scrolled": true
   },
   "outputs": [],
   "source": [
    "\n",
    "# coordinates = Combined[[\"lat\",\"lng\"]]\n",
    "# coordinates\n",
    "# markers = gmaps.marker_layer(coordinates)\n",
    "# # Add the layer to the map\n",
    "# fig.add_layer(markers)\n",
    "# fig\n",
    "# # Combined[Combined[\"lat\"]<=-50]"
   ]
  },
  {
   "cell_type": "code",
   "execution_count": null,
   "metadata": {},
   "outputs": [],
   "source": [
    "\n",
    "# heat_layer = gmaps.heatmap_layer(coordinates, weights=Combined[\"strength\"], \n",
    "#                                  dissipating=False, max_intensity=100,\n",
    "#                                  point_radius = 1.0)\n",
    "\n",
    "# # Adjust heat_layer setting to help with heatmap dissipating on zoom\n",
    "# heat_layer.dissipating = False\n",
    "# heat_layer.max_intensity = 1000\n",
    "# heat_layer.point_radius = 1\n",
    "\n",
    "# fig.add_layer(heat_layer)\n",
    "\n",
    "# fig\n"
   ]
  },
  {
   "cell_type": "code",
   "execution_count": null,
   "metadata": {},
   "outputs": [],
   "source": [
    "# Combined.boxplot(\"strength\", by=\"shape\", figsize=(20, 10))"
   ]
  },
  {
   "cell_type": "code",
   "execution_count": null,
   "metadata": {},
   "outputs": [],
   "source": [
    "# Combined[Combined[\"shape\"]==\"Disk\"][\"strength\"]\n",
    "# plt.hist(Combined[Combined[\"shape\"]==\"Disk\"][\"strength\"], 10, density=True, alpha=0.7, label=\"population1\")\n",
    "# plt.hist(Combined[Combined[\"shape\"]==\"Fireball\"][\"strength\"], 10, density=True, alpha=0.7, label=\"population1\")\n",
    "# plt.hist(Combined[Combined[\"shape\"]==\"Circle\"][\"strength\"], 10, density=True, alpha=0.7, label=\"population1\")\n",
    "# # plt.hist(Combined[Combined[\"shape\"]==\"Egg\"][\"strength\"], 10, density=True, alpha=0.7, label=\"population1\")"
   ]
  },
  {
   "cell_type": "code",
   "execution_count": null,
   "metadata": {},
   "outputs": [],
   "source": [
    "# stats.f_oneway(Combined[Combined[\"shape\"]==\"Disk\"][\"strength\"],Combined[Combined[\"shape\"]==\"Fireball\"][\"strength\"],Combined[Combined[\"shape\"]==\"Egg\"][\"strength\"])"
   ]
  },
  {
   "cell_type": "code",
   "execution_count": 3,
   "metadata": {},
   "outputs": [
    {
     "name": "stdout",
     "output_type": "stream",
     "text": [
      "0\n",
      "1\n"
     ]
    }
   ],
   "source": [
    "for i in range(2):\n",
    "    print (i)"
   ]
  },
  {
   "cell_type": "code",
   "execution_count": null,
   "metadata": {},
   "outputs": [],
   "source": []
  }
 ],
 "metadata": {
  "kernelspec": {
   "display_name": "Python 3",
   "language": "python",
   "name": "python3"
  },
  "language_info": {
   "codemirror_mode": {
    "name": "ipython",
    "version": 3
   },
   "file_extension": ".py",
   "mimetype": "text/x-python",
   "name": "python",
   "nbconvert_exporter": "python",
   "pygments_lexer": "ipython3",
   "version": "3.7.3"
  }
 },
 "nbformat": 4,
 "nbformat_minor": 2
}
