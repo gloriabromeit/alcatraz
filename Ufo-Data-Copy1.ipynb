{
 "cells": [
  {
   "cell_type": "code",
   "execution_count": 1,
   "metadata": {},
   "outputs": [],
   "source": [
    "import json\n",
    "import pandas as pd\n",
    "import numpy as np\n",
    "import matplotlib.pyplot as plt\n",
    "import requests as rp\n",
    "import gmaps\n",
    "from config import gkey\n",
    "import scipy.stats as stats"
   ]
  },
  {
   "cell_type": "code",
   "execution_count": 2,
   "metadata": {},
   "outputs": [],
   "source": [
    "base = \"http://ufo-api.herokuapp.com/api/sightings/location/near?\"\n",
    "Ontario_lat_max = 56.800878\n",
    "Ontario_lat_min = 41.771312\n",
    "Ontario_lng_max = -75.251467\n",
    "Ontario_lng_min = -95.281572\n",
    "\n",
    "lats = np.random.uniform(low=-90, high=90, size=200)\n",
    "lngs = np.random.uniform(low=-90, high=90, size=200)\n"
   ]
  },
  {
   "cell_type": "code",
   "execution_count": 3,
   "metadata": {},
   "outputs": [
    {
     "data": {
      "text/plain": [
       "(2000, 2000)"
      ]
     },
     "execution_count": 3,
     "metadata": {},
     "output_type": "execute_result"
    }
   ],
   "source": [
    "len(lats), len(lngs)"
   ]
  },
  {
   "cell_type": "code",
   "execution_count": 4,
   "metadata": {
    "scrolled": true
   },
   "outputs": [
    {
     "name": "stdout",
     "output_type": "stream",
     "text": [
      "could not find\n",
      "could not find\n",
      "could not find\n",
      "could not find\n",
      "could not find\n",
      "could not find\n",
      "could not find\n",
      "could not find\n",
      "could not find\n",
      "could not find\n",
      "could not find\n",
      "could not find\n",
      "could not find\n",
      "could not find\n",
      "could not find\n",
      "could not find\n",
      "could not find\n",
      "could not find\n",
      "could not find\n",
      "could not find\n",
      "could not find\n",
      "could not find\n",
      "could not find\n",
      "could not find\n",
      "could not find\n",
      "could not find\n",
      "could not find\n",
      "could not find\n",
      "could not find\n",
      "could not find\n",
      "could not find\n",
      "could not find\n",
      "could not find\n",
      "could not find\n",
      "could not find\n",
      "could not find\n",
      "could not find\n",
      "could not find\n",
      "could not find\n",
      "could not find\n",
      "could not find\n",
      "could not find\n",
      "could not find\n",
      "could not find\n",
      "could not find\n",
      "could not find\n",
      "could not find\n",
      "could not find\n",
      "could not find\n",
      "could not find\n",
      "could not find\n",
      "could not find\n",
      "could not find\n",
      "could not find\n",
      "could not find\n",
      "could not find\n",
      "could not find\n",
      "could not find\n",
      "could not find\n",
      "could not find\n",
      "could not find\n",
      "could not find\n",
      "could not find\n",
      "could not find\n",
      "could not find\n",
      "could not find\n",
      "could not find\n",
      "could not find\n",
      "could not find\n",
      "could not find\n",
      "could not find\n",
      "could not find\n",
      "could not find\n",
      "could not find\n",
      "could not find\n",
      "could not find\n",
      "could not find\n",
      "could not find\n",
      "could not find\n",
      "could not find\n",
      "could not find\n",
      "could not find\n",
      "could not find\n",
      "could not find\n",
      "could not find\n",
      "could not find\n",
      "could not find\n",
      "could not find\n",
      "could not find\n",
      "could not find\n",
      "could not find\n",
      "could not find\n",
      "could not find\n",
      "could not find\n",
      "could not find\n",
      "could not find\n",
      "could not find\n",
      "could not find\n",
      "could not find\n",
      "could not find\n",
      "could not find\n",
      "could not find\n",
      "could not find\n",
      "could not find\n",
      "could not find\n",
      "could not find\n",
      "could not find\n",
      "could not find\n",
      "could not find\n",
      "could not find\n",
      "could not find\n",
      "could not find\n",
      "could not find\n",
      "could not find\n",
      "could not find\n",
      "could not find\n",
      "could not find\n",
      "could not find\n",
      "could not find\n",
      "could not find\n",
      "could not find\n",
      "could not find\n",
      "could not find\n",
      "could not find\n",
      "could not find\n",
      "could not find\n",
      "could not find\n",
      "could not find\n",
      "could not find\n",
      "could not find\n",
      "finished\n"
     ]
    }
   ],
   "source": [
    "city = []\n",
    "shape = []\n",
    "state = []\n",
    "date = []\n",
    "duration = []\n",
    "lats_ON = []\n",
    "lngs_ON = []\n",
    "for i in np.arange(0,len(lats)):\n",
    "    try:\n",
    "        responce = rp.get(f\"{base}lat={lats[i]}&lon={lngs[i]}&limit=1\").json()\n",
    "#         if responce[\"sightings\"][0][\"obj\"][\"state\"] == \"ON\":\n",
    "        city.append(responce[\"sightings\"][0][\"obj\"][\"city\"])\n",
    "        shape.append(responce[\"sightings\"][0][\"obj\"][\"shape\"])\n",
    "        state.append(responce[\"sightings\"][0][\"obj\"][\"state\"])\n",
    "        date.append(responce[\"sightings\"][0][\"obj\"][\"date\"])\n",
    "        duration.append(responce[\"sightings\"][0][\"obj\"][\"duration\"])\n",
    "        lats_ON.append(responce[\"sightings\"][0][\"obj\"][\"loc\"][1])\n",
    "        lngs_ON.append(responce[\"sightings\"][0][\"obj\"][\"loc\"][0])\n",
    "    except Exception as e:\n",
    "        print(\"could not find\")\n",
    "print(\"finished\")"
   ]
  },
  {
   "cell_type": "code",
   "execution_count": 5,
   "metadata": {
    "scrolled": true
   },
   "outputs": [
    {
     "data": {
      "text/html": [
       "<div>\n",
       "<style scoped>\n",
       "    .dataframe tbody tr th:only-of-type {\n",
       "        vertical-align: middle;\n",
       "    }\n",
       "\n",
       "    .dataframe tbody tr th {\n",
       "        vertical-align: top;\n",
       "    }\n",
       "\n",
       "    .dataframe thead th {\n",
       "        text-align: right;\n",
       "    }\n",
       "</style>\n",
       "<table border=\"1\" class=\"dataframe\">\n",
       "  <thead>\n",
       "    <tr style=\"text-align: right;\">\n",
       "      <th></th>\n",
       "      <th>lat</th>\n",
       "      <th>lng</th>\n",
       "      <th>city</th>\n",
       "      <th>shape</th>\n",
       "      <th>state</th>\n",
       "      <th>date</th>\n",
       "      <th>duration</th>\n",
       "      <th>strength</th>\n",
       "      <th>Normalised</th>\n",
       "    </tr>\n",
       "  </thead>\n",
       "  <tbody>\n",
       "    <tr>\n",
       "      <th>0</th>\n",
       "      <td>-10.000000</td>\n",
       "      <td>70.000000</td>\n",
       "      <td>Indian Ocean</td>\n",
       "      <td>Fireball</td>\n",
       "      <td></td>\n",
       "      <td>2010-10-29T21:00:00.000Z</td>\n",
       "      <td>1.5 hrs</td>\n",
       "      <td>31</td>\n",
       "      <td>1.657754</td>\n",
       "    </tr>\n",
       "    <tr>\n",
       "      <th>1</th>\n",
       "      <td>28.060197</td>\n",
       "      <td>-16.731053</td>\n",
       "      <td>Playa de las Americas (Spain)</td>\n",
       "      <td>Cigar</td>\n",
       "      <td></td>\n",
       "      <td>2008-06-13T13:00:00.000Z</td>\n",
       "      <td>1 second max</td>\n",
       "      <td>2</td>\n",
       "      <td>0.106952</td>\n",
       "    </tr>\n",
       "    <tr>\n",
       "      <th>2</th>\n",
       "      <td>-14.016710</td>\n",
       "      <td>-70.444436</td>\n",
       "      <td>Tocca</td>\n",
       "      <td>Triangle</td>\n",
       "      <td>GA</td>\n",
       "      <td>1984-12-24T23:15:00.000Z</td>\n",
       "      <td>3 min</td>\n",
       "      <td>3</td>\n",
       "      <td>0.160428</td>\n",
       "    </tr>\n",
       "    <tr>\n",
       "      <th>3</th>\n",
       "      <td>77.619235</td>\n",
       "      <td>-42.812597</td>\n",
       "      <td>Greenland</td>\n",
       "      <td>Rectangle</td>\n",
       "      <td></td>\n",
       "      <td>2009-10-10T00:00:00.000Z</td>\n",
       "      <td></td>\n",
       "      <td>53</td>\n",
       "      <td>2.834225</td>\n",
       "    </tr>\n",
       "    <tr>\n",
       "      <th>4</th>\n",
       "      <td>32.940750</td>\n",
       "      <td>52.947134</td>\n",
       "      <td>Iran</td>\n",
       "      <td>Other</td>\n",
       "      <td></td>\n",
       "      <td>2016-03-23T12:00:00.000Z</td>\n",
       "      <td>1 second</td>\n",
       "      <td>1</td>\n",
       "      <td>0.053476</td>\n",
       "    </tr>\n",
       "  </tbody>\n",
       "</table>\n",
       "</div>"
      ],
      "text/plain": [
       "         lat        lng                           city      shape state  \\\n",
       "0 -10.000000  70.000000                   Indian Ocean   Fireball         \n",
       "1  28.060197 -16.731053  Playa de las Americas (Spain)      Cigar         \n",
       "2 -14.016710 -70.444436                          Tocca   Triangle    GA   \n",
       "3  77.619235 -42.812597                      Greenland  Rectangle         \n",
       "4  32.940750  52.947134                           Iran      Other         \n",
       "\n",
       "                       date      duration  strength  Normalised  \n",
       "0  2010-10-29T21:00:00.000Z       1.5 hrs        31    1.657754  \n",
       "1  2008-06-13T13:00:00.000Z  1 second max         2    0.106952  \n",
       "2  1984-12-24T23:15:00.000Z         3 min         3    0.160428  \n",
       "3  2009-10-10T00:00:00.000Z                      53    2.834225  \n",
       "4  2016-03-23T12:00:00.000Z      1 second         1    0.053476  "
      ]
     },
     "execution_count": 5,
     "metadata": {},
     "output_type": "execute_result"
    }
   ],
   "source": [
    "Combined = pd.DataFrame({\"lat\":lats_ON,\"lng\":lngs_ON,\"city\":city,\"shape\":shape,\"state\":state,\"date\":date,\"duration\":duration})\n",
    "cities_strength = Combined.groupby(\"city\").count()\n",
    "cities_strength = cities_strength.reset_index()\n",
    "Combined = Combined.drop_duplicates(\"city\")\n",
    "cities_strength.set_index(\"city\",inplace = True)\n",
    "cities_strength = pd.DataFrame(cities_strength.loc[Combined[\"city\"],\"lat\"])\n",
    "cities_strength.reset_index(inplace = True)\n",
    "cities_strength.rename(columns = {\"lat\":\"strength\"},inplace=True)\n",
    "cities_strength[\"Normalised\"] = (cities_strength[\"strength\"]/cities_strength[\"strength\"].sum())*100\n",
    "Combined = pd.merge(Combined,cities_strength,on=\"city\")\n",
    "Combined.head()"
   ]
  },
  {
   "cell_type": "code",
   "execution_count": 6,
   "metadata": {},
   "outputs": [],
   "source": [
    "gkey = \"\"\n",
    "gmaps.configure(api_key=gkey)\n",
    "figure_layout = {\n",
    "    'width': '400px',\n",
    "    'height': '300px',\n",
    "    'border': '1px solid black',\n",
    "    'padding': '1px',\n",
    "    'margin': '0 auto 0 auto'\n",
    "}\n",
    "fig = gmaps.figure(layout=figure_layout)"
   ]
  },
  {
   "cell_type": "code",
   "execution_count": 7,
   "metadata": {
    "scrolled": true
   },
   "outputs": [],
   "source": [
    "\n",
    "coordinates = Combined[[\"lat\",\"lng\"]]\n",
    "# coordinates\n",
    "# markers = gmaps.marker_layer(coordinates)\n",
    "# # Add the layer to the map\n",
    "# fig.add_layer(markers)\n",
    "# fig\n",
    "# Combined[Combined[\"lat\"]<=-50]"
   ]
  },
  {
   "cell_type": "code",
   "execution_count": 8,
   "metadata": {},
   "outputs": [
    {
     "data": {
      "application/vnd.jupyter.widget-view+json": {
       "model_id": "984b7aecaa8a4d3d8663fd3f11952445",
       "version_major": 2,
       "version_minor": 0
      },
      "text/plain": [
       "Figure(layout=FigureLayout(border='1px solid black', height='300px', margin='0 auto 0 auto', padding='1px', wi…"
      ]
     },
     "metadata": {},
     "output_type": "display_data"
    }
   ],
   "source": [
    "\n",
    "heat_layer = gmaps.heatmap_layer(coordinates, weights=Combined[\"strength\"], \n",
    "                                 dissipating=False, max_intensity=100,\n",
    "                                 point_radius = 1.0)\n",
    "\n",
    "# Adjust heat_layer setting to help with heatmap dissipating on zoom\n",
    "heat_layer.dissipating = False\n",
    "heat_layer.max_intensity = 1000\n",
    "heat_layer.point_radius = 5\n",
    "\n",
    "fig.add_layer(heat_layer)\n",
    "\n",
    "fig\n"
   ]
  },
  {
   "cell_type": "code",
   "execution_count": 9,
   "metadata": {},
   "outputs": [
    {
     "data": {
      "text/plain": [
       "<matplotlib.axes._subplots.AxesSubplot at 0x12c2faf8c50>"
      ]
     },
     "execution_count": 9,
     "metadata": {},
     "output_type": "execute_result"
    },
    {
     "data": {
      "image/png": "[encoded data removed]",
      "text/plain": [
       "<Figure size 1440x720 with 1 Axes>"
      ]
     },
     "metadata": {
      "needs_background": "light"
     },
     "output_type": "display_data"
    }
   ],
   "source": [
    "Combined.boxplot(\"strength\", by=\"shape\", figsize=(20, 10))"
   ]
  },
  {
   "cell_type": "code",
   "execution_count": 10,
   "metadata": {},
   "outputs": [
    {
     "data": {
      "text/plain": [
       "(array([0.40064103, 0.08012821, 0.03205128, 0.        , 0.03205128,\n",
       "        0.01602564, 0.01602564, 0.01602564, 0.01602564, 0.01602564]),\n",
       " array([ 1. ,  2.6,  4.2,  5.8,  7.4,  9. , 10.6, 12.2, 13.8, 15.4, 17. ]),\n",
       " <a list of 10 Patch objects>)"
      ]
     },
     "execution_count": 10,
     "metadata": {},
     "output_type": "execute_result"
    },
    {
     "data": {
      "image/png": "[encoded data removed]",
      "text/plain": [
       "<Figure size 432x288 with 1 Axes>"
      ]
     },
     "metadata": {
      "needs_background": "light"
     },
     "output_type": "display_data"
    }
   ],
   "source": [
    "Combined[Combined[\"shape\"]==\"Disk\"][\"strength\"]\n",
    "plt.hist(Combined[Combined[\"shape\"]==\"Disk\"][\"strength\"], 10, density=True, alpha=0.7, label=\"population1\")\n",
    "plt.hist(Combined[Combined[\"shape\"]==\"Fireball\"][\"strength\"], 10, density=True, alpha=0.7, label=\"population1\")\n",
    "plt.hist(Combined[Combined[\"shape\"]==\"Circle\"][\"strength\"], 10, density=True, alpha=0.7, label=\"population1\")\n",
    "# plt.hist(Combined[Combined[\"shape\"]==\"Egg\"][\"strength\"], 10, density=True, alpha=0.7, label=\"population1\")"
   ]
  },
  {
   "cell_type": "code",
   "execution_count": 11,
   "metadata": {},
   "outputs": [
    {
     "data": {
      "text/plain": [
       "F_onewayResult(statistic=3.359634553556709, pvalue=0.040880745142063364)"
      ]
     },
     "execution_count": 11,
     "metadata": {},
     "output_type": "execute_result"
    }
   ],
   "source": [
    "stats.f_oneway(Combined[Combined[\"shape\"]==\"Disk\"][\"strength\"],Combined[Combined[\"shape\"]==\"Fireball\"][\"strength\"],Combined[Combined[\"shape\"]==\"Egg\"][\"strength\"])"
   ]
  },
  {
   "cell_type": "code",
   "execution_count": 12,
   "metadata": {},
   "outputs": [
    {
     "data": {
      "text/html": [
       "<div>\n",
       "<style scoped>\n",
       "    .dataframe tbody tr th:only-of-type {\n",
       "        vertical-align: middle;\n",
       "    }\n",
       "\n",
       "    .dataframe tbody tr th {\n",
       "        vertical-align: top;\n",
       "    }\n",
       "\n",
       "    .dataframe thead th {\n",
       "        text-align: right;\n",
       "    }\n",
       "</style>\n",
       "<table border=\"1\" class=\"dataframe\">\n",
       "  <thead>\n",
       "    <tr style=\"text-align: right;\">\n",
       "      <th></th>\n",
       "      <th>lat</th>\n",
       "      <th>lng</th>\n",
       "      <th>city</th>\n",
       "      <th>shape</th>\n",
       "      <th>state</th>\n",
       "      <th>date</th>\n",
       "      <th>duration</th>\n",
       "      <th>strength</th>\n",
       "      <th>Normalised</th>\n",
       "      <th>year</th>\n",
       "      <th>month</th>\n",
       "    </tr>\n",
       "  </thead>\n",
       "  <tbody>\n",
       "    <tr>\n",
       "      <th>0</th>\n",
       "      <td>-10.000000</td>\n",
       "      <td>70.000000</td>\n",
       "      <td>Indian Ocean</td>\n",
       "      <td>Fireball</td>\n",
       "      <td></td>\n",
       "      <td>2010-10-29T21:00:00.000Z</td>\n",
       "      <td>1.5 hrs</td>\n",
       "      <td>31</td>\n",
       "      <td>1.657754</td>\n",
       "      <td>2010</td>\n",
       "      <td>10</td>\n",
       "    </tr>\n",
       "    <tr>\n",
       "      <th>1</th>\n",
       "      <td>28.060197</td>\n",
       "      <td>-16.731053</td>\n",
       "      <td>Playa de las Americas (Spain)</td>\n",
       "      <td>Cigar</td>\n",
       "      <td></td>\n",
       "      <td>2008-06-13T13:00:00.000Z</td>\n",
       "      <td>1 second max</td>\n",
       "      <td>2</td>\n",
       "      <td>0.106952</td>\n",
       "      <td>2008</td>\n",
       "      <td>6</td>\n",
       "    </tr>\n",
       "    <tr>\n",
       "      <th>2</th>\n",
       "      <td>-14.016710</td>\n",
       "      <td>-70.444436</td>\n",
       "      <td>Tocca</td>\n",
       "      <td>Triangle</td>\n",
       "      <td>GA</td>\n",
       "      <td>1984-12-24T23:15:00.000Z</td>\n",
       "      <td>3 min</td>\n",
       "      <td>3</td>\n",
       "      <td>0.160428</td>\n",
       "      <td>1984</td>\n",
       "      <td>12</td>\n",
       "    </tr>\n",
       "    <tr>\n",
       "      <th>3</th>\n",
       "      <td>77.619235</td>\n",
       "      <td>-42.812597</td>\n",
       "      <td>Greenland</td>\n",
       "      <td>Rectangle</td>\n",
       "      <td></td>\n",
       "      <td>2009-10-10T00:00:00.000Z</td>\n",
       "      <td></td>\n",
       "      <td>53</td>\n",
       "      <td>2.834225</td>\n",
       "      <td>2009</td>\n",
       "      <td>10</td>\n",
       "    </tr>\n",
       "    <tr>\n",
       "      <th>4</th>\n",
       "      <td>32.940750</td>\n",
       "      <td>52.947134</td>\n",
       "      <td>Iran</td>\n",
       "      <td>Other</td>\n",
       "      <td></td>\n",
       "      <td>2016-03-23T12:00:00.000Z</td>\n",
       "      <td>1 second</td>\n",
       "      <td>1</td>\n",
       "      <td>0.053476</td>\n",
       "      <td>2016</td>\n",
       "      <td>3</td>\n",
       "    </tr>\n",
       "  </tbody>\n",
       "</table>\n",
       "</div>"
      ],
      "text/plain": [
       "         lat        lng                           city      shape state  \\\n",
       "0 -10.000000  70.000000                   Indian Ocean   Fireball         \n",
       "1  28.060197 -16.731053  Playa de las Americas (Spain)      Cigar         \n",
       "2 -14.016710 -70.444436                          Tocca   Triangle    GA   \n",
       "3  77.619235 -42.812597                      Greenland  Rectangle         \n",
       "4  32.940750  52.947134                           Iran      Other         \n",
       "\n",
       "                       date      duration  strength  Normalised  year  month  \n",
       "0  2010-10-29T21:00:00.000Z       1.5 hrs        31    1.657754  2010     10  \n",
       "1  2008-06-13T13:00:00.000Z  1 second max         2    0.106952  2008      6  \n",
       "2  1984-12-24T23:15:00.000Z         3 min         3    0.160428  1984     12  \n",
       "3  2009-10-10T00:00:00.000Z                      53    2.834225  2009     10  \n",
       "4  2016-03-23T12:00:00.000Z      1 second         1    0.053476  2016      3  "
      ]
     },
     "execution_count": 12,
     "metadata": {},
     "output_type": "execute_result"
    }
   ],
   "source": [
    "#cleaning combined dataframe based on date \n",
    "Combined['year'] = pd.DatetimeIndex(Combined['date']).year\n",
    "Combined['month'] = pd.DatetimeIndex(Combined['date']).month\n",
    "Combined.head()"
   ]
  },
  {
   "cell_type": "code",
   "execution_count": 13,
   "metadata": {},
   "outputs": [
    {
     "data": {
      "text/html": [
       "<div>\n",
       "<style scoped>\n",
       "    .dataframe tbody tr th:only-of-type {\n",
       "        vertical-align: middle;\n",
       "    }\n",
       "\n",
       "    .dataframe tbody tr th {\n",
       "        vertical-align: top;\n",
       "    }\n",
       "\n",
       "    .dataframe thead th {\n",
       "        text-align: right;\n",
       "    }\n",
       "</style>\n",
       "<table border=\"1\" class=\"dataframe\">\n",
       "  <thead>\n",
       "    <tr style=\"text-align: right;\">\n",
       "      <th></th>\n",
       "      <th>city</th>\n",
       "      <th>year</th>\n",
       "      <th>month</th>\n",
       "    </tr>\n",
       "  </thead>\n",
       "  <tbody>\n",
       "    <tr>\n",
       "      <th>0</th>\n",
       "      <td>Indian Ocean</td>\n",
       "      <td>2010</td>\n",
       "      <td>10</td>\n",
       "    </tr>\n",
       "    <tr>\n",
       "      <th>1</th>\n",
       "      <td>Playa de las Americas (Spain)</td>\n",
       "      <td>2008</td>\n",
       "      <td>6</td>\n",
       "    </tr>\n",
       "    <tr>\n",
       "      <th>2</th>\n",
       "      <td>Tocca</td>\n",
       "      <td>1984</td>\n",
       "      <td>12</td>\n",
       "    </tr>\n",
       "    <tr>\n",
       "      <th>3</th>\n",
       "      <td>Greenland</td>\n",
       "      <td>2009</td>\n",
       "      <td>10</td>\n",
       "    </tr>\n",
       "    <tr>\n",
       "      <th>4</th>\n",
       "      <td>Iran</td>\n",
       "      <td>2016</td>\n",
       "      <td>3</td>\n",
       "    </tr>\n",
       "  </tbody>\n",
       "</table>\n",
       "</div>"
      ],
      "text/plain": [
       "                            city  year  month\n",
       "0                   Indian Ocean  2010     10\n",
       "1  Playa de las Americas (Spain)  2008      6\n",
       "2                          Tocca  1984     12\n",
       "3                      Greenland  2009     10\n",
       "4                           Iran  2016      3"
      ]
     },
     "execution_count": 13,
     "metadata": {},
     "output_type": "execute_result"
    }
   ],
   "source": [
    "#new df\n",
    "date_df = Combined[['city', 'year', 'month']].copy()\n",
    "date_df.head()"
   ]
  },
  {
   "cell_type": "code",
   "execution_count": null,
   "metadata": {},
   "outputs": [],
   "source": []
  }
 ],
 "metadata": {
  "kernelspec": {
   "display_name": "Python 3",
   "language": "python",
   "name": "python3"
  },
  "language_info": {
   "codemirror_mode": {
    "name": "ipython",
    "version": 3
   },
   "file_extension": ".py",
   "mimetype": "text/x-python",
   "name": "python",
   "nbconvert_exporter": "python",
   "pygments_lexer": "ipython3",
   "version": "3.7.3"
  }
 },
 "nbformat": 4,
 "nbformat_minor": 2
}
