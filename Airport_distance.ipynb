{
 "cells": [
  {
   "cell_type": "code",
   "execution_count": 1,
   "metadata": {},
   "outputs": [],
   "source": [
    "import json\n",
    "import pandas as pd\n",
    "import numpy as np\n",
    "import matplotlib.pyplot as plt\n",
    "import requests as rp\n",
    "import gmaps\n",
    "from config import gkey\n",
    "import scipy.stats as stats\n",
    "\n",
    "import geopy.distance"
   ]
  },
  {
   "cell_type": "code",
   "execution_count": 48,
   "metadata": {},
   "outputs": [],
   "source": [
    "Google_csv = \"CSV_files\\Airport_Output_Google.csv\"\n",
    "asd = \"CSV_files\\Duplicate-data.csv\"\n",
    "a = pd.read_csv(asd)"
   ]
  },
  {
   "cell_type": "code",
   "execution_count": 52,
   "metadata": {},
   "outputs": [
    {
     "data": {
      "text/plain": [
       "lat      1037\n",
       "lng      1037\n",
       "city     1037\n",
       "state    1037\n",
       "date     1037\n",
       "year     1037\n",
       "month    1037\n",
       "dtype: int64"
      ]
     },
     "execution_count": 52,
     "metadata": {},
     "output_type": "execute_result"
    }
   ],
   "source": [
    "a.count()"
   ]
  },
  {
   "cell_type": "code",
   "execution_count": 51,
   "metadata": {},
   "outputs": [
    {
     "data": {
      "text/plain": [
       "114"
      ]
     },
     "execution_count": 51,
     "metadata": {},
     "output_type": "execute_result"
    }
   ],
   "source": [
    "len(a[\"date\"].unique())"
   ]
  },
  {
   "cell_type": "code",
   "execution_count": 40,
   "metadata": {},
   "outputs": [],
   "source": [
    "Google_data = pd.read_csv(Google_csv)\n",
    "Google_data.dropna(inplace=True)\n",
    "Google_data.reset_index(inplace =True)"
   ]
  },
  {
   "cell_type": "code",
   "execution_count": 44,
   "metadata": {},
   "outputs": [],
   "source": [
    "Distance = []\n",
    "# Google_data.head(10)\n",
    "# Google_data[\"lat\"][6]"
   ]
  },
  {
   "cell_type": "code",
   "execution_count": 45,
   "metadata": {
    "scrolled": false
   },
   "outputs": [],
   "source": [
    "for i in range(len(Google_data)):\n",
    "    coords_sighting = (Google_data[\"lat\"][i],Google_data[\"lng\"][i])\n",
    "    coords_airport = (Google_data[\"Lat Airport\"][i],Google_data[\"Lng Airport\"][i])\n",
    "    Distance.append (geopy.distance.geodesic(coords_sighting, coords_airport).km)\n",
    "#     print (geopy.distance.geodesic(coords_sighting, coords_airport).km)\n"
   ]
  },
  {
   "cell_type": "code",
   "execution_count": 46,
   "metadata": {},
   "outputs": [],
   "source": [
    "Google_data[\"Distance\"] = Distance"
   ]
  },
  {
   "cell_type": "code",
   "execution_count": 47,
   "metadata": {},
   "outputs": [
    {
     "data": {
      "text/html": [
       "<div>\n",
       "<style scoped>\n",
       "    .dataframe tbody tr th:only-of-type {\n",
       "        vertical-align: middle;\n",
       "    }\n",
       "\n",
       "    .dataframe tbody tr th {\n",
       "        vertical-align: top;\n",
       "    }\n",
       "\n",
       "    .dataframe thead th {\n",
       "        text-align: right;\n",
       "    }\n",
       "</style>\n",
       "<table border=\"1\" class=\"dataframe\">\n",
       "  <thead>\n",
       "    <tr style=\"text-align: right;\">\n",
       "      <th></th>\n",
       "      <th>index</th>\n",
       "      <th>Unnamed: 0</th>\n",
       "      <th>lat</th>\n",
       "      <th>lng</th>\n",
       "      <th>city</th>\n",
       "      <th>state</th>\n",
       "      <th>date</th>\n",
       "      <th>year</th>\n",
       "      <th>month</th>\n",
       "      <th>Airport Name</th>\n",
       "      <th>Lat Airport</th>\n",
       "      <th>Lng Airport</th>\n",
       "      <th>Distance</th>\n",
       "    </tr>\n",
       "  </thead>\n",
       "  <tbody>\n",
       "    <tr>\n",
       "      <th>0</th>\n",
       "      <td>0</td>\n",
       "      <td>0</td>\n",
       "      <td>50.178516</td>\n",
       "      <td>-86.713331</td>\n",
       "      <td>Northern Canada</td>\n",
       "      <td>ON</td>\n",
       "      <td>1995-02-06T01:00:00.000Z</td>\n",
       "      <td>1995</td>\n",
       "      <td>2</td>\n",
       "      <td>Hutchison Lake Waterdrome</td>\n",
       "      <td>49.784780</td>\n",
       "      <td>-86.940019</td>\n",
       "      <td>46.715300</td>\n",
       "    </tr>\n",
       "    <tr>\n",
       "      <th>1</th>\n",
       "      <td>1</td>\n",
       "      <td>1</td>\n",
       "      <td>48.653051</td>\n",
       "      <td>-93.826706</td>\n",
       "      <td>Emo (Canada)</td>\n",
       "      <td>ON</td>\n",
       "      <td>2005-08-04T23:30:00.000Z</td>\n",
       "      <td>2005</td>\n",
       "      <td>8</td>\n",
       "      <td>Burditt Lake Waterdome</td>\n",
       "      <td>48.918707</td>\n",
       "      <td>-93.799182</td>\n",
       "      <td>29.611634</td>\n",
       "    </tr>\n",
       "    <tr>\n",
       "      <th>2</th>\n",
       "      <td>2</td>\n",
       "      <td>2</td>\n",
       "      <td>52.923989</td>\n",
       "      <td>-82.428349</td>\n",
       "      <td>Attawapiskat (Canada)</td>\n",
       "      <td>ON</td>\n",
       "      <td>2012-10-08T21:45:00.000Z</td>\n",
       "      <td>2012</td>\n",
       "      <td>10</td>\n",
       "      <td>Attawapiskat Airport</td>\n",
       "      <td>52.926554</td>\n",
       "      <td>-82.430475</td>\n",
       "      <td>0.319252</td>\n",
       "    </tr>\n",
       "    <tr>\n",
       "      <th>3</th>\n",
       "      <td>3</td>\n",
       "      <td>3</td>\n",
       "      <td>52.923989</td>\n",
       "      <td>-82.428349</td>\n",
       "      <td>Attawapiskat (Canada)</td>\n",
       "      <td>ON</td>\n",
       "      <td>2012-10-08T21:45:00.000Z</td>\n",
       "      <td>2012</td>\n",
       "      <td>10</td>\n",
       "      <td>Attawapiskat Airport</td>\n",
       "      <td>52.926554</td>\n",
       "      <td>-82.430475</td>\n",
       "      <td>0.319252</td>\n",
       "    </tr>\n",
       "    <tr>\n",
       "      <th>4</th>\n",
       "      <td>4</td>\n",
       "      <td>4</td>\n",
       "      <td>50.178516</td>\n",
       "      <td>-86.713331</td>\n",
       "      <td>Northern Canada</td>\n",
       "      <td>ON</td>\n",
       "      <td>1995-02-06T01:00:00.000Z</td>\n",
       "      <td>1995</td>\n",
       "      <td>2</td>\n",
       "      <td>Hutchison Lake Waterdrome</td>\n",
       "      <td>49.784780</td>\n",
       "      <td>-86.940019</td>\n",
       "      <td>46.715300</td>\n",
       "    </tr>\n",
       "  </tbody>\n",
       "</table>\n",
       "</div>"
      ],
      "text/plain": [
       "   index  Unnamed: 0        lat        lng                   city state  \\\n",
       "0      0           0  50.178516 -86.713331        Northern Canada    ON   \n",
       "1      1           1  48.653051 -93.826706           Emo (Canada)    ON   \n",
       "2      2           2  52.923989 -82.428349  Attawapiskat (Canada)    ON   \n",
       "3      3           3  52.923989 -82.428349  Attawapiskat (Canada)    ON   \n",
       "4      4           4  50.178516 -86.713331        Northern Canada    ON   \n",
       "\n",
       "                       date  year  month               Airport Name  \\\n",
       "0  1995-02-06T01:00:00.000Z  1995      2  Hutchison Lake Waterdrome   \n",
       "1  2005-08-04T23:30:00.000Z  2005      8     Burditt Lake Waterdome   \n",
       "2  2012-10-08T21:45:00.000Z  2012     10       Attawapiskat Airport   \n",
       "3  2012-10-08T21:45:00.000Z  2012     10       Attawapiskat Airport   \n",
       "4  1995-02-06T01:00:00.000Z  1995      2  Hutchison Lake Waterdrome   \n",
       "\n",
       "   Lat Airport  Lng Airport   Distance  \n",
       "0    49.784780   -86.940019  46.715300  \n",
       "1    48.918707   -93.799182  29.611634  \n",
       "2    52.926554   -82.430475   0.319252  \n",
       "3    52.926554   -82.430475   0.319252  \n",
       "4    49.784780   -86.940019  46.715300  "
      ]
     },
     "execution_count": 47,
     "metadata": {},
     "output_type": "execute_result"
    }
   ],
   "source": [
    "Google_data.head()"
   ]
  },
  {
   "cell_type": "code",
   "execution_count": null,
   "metadata": {},
   "outputs": [],
   "source": []
  }
 ],
 "metadata": {
  "kernelspec": {
   "display_name": "Python 3",
   "language": "python",
   "name": "python3"
  },
  "language_info": {
   "codemirror_mode": {
    "name": "ipython",
    "version": 3
   },
   "file_extension": ".py",
   "mimetype": "text/x-python",
   "name": "python",
   "nbconvert_exporter": "python",
   "pygments_lexer": "ipython3",
   "version": "3.7.3"
  }
 },
 "nbformat": 4,
 "nbformat_minor": 2
}
