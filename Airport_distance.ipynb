{
 "cells": [
  {
   "cell_type": "code",
   "execution_count": 1,
   "metadata": {},
   "outputs": [],
   "source": [
    "import json\n",
    "import pandas as pd\n",
    "import numpy as np\n",
    "import matplotlib.pyplot as plt\n",
    "import requests as rp\n",
    "import gmaps\n",
    "from config import gkey\n",
    "import scipy.stats as stats\n",
    "\n",
    "import geopy.distance"
   ]
  },
  {
   "cell_type": "code",
   "execution_count": 2,
   "metadata": {},
   "outputs": [],
   "source": [
    "Google_csv = \"CSV_files\\Airport_Output_Google.csv\"\n",
    "asd = \"CSV_files\\Duplicate-data.csv\"\n",
    "a = pd.read_csv(asd)"
   ]
  },
  {
   "cell_type": "code",
   "execution_count": 3,
   "metadata": {},
   "outputs": [
    {
     "data": {
      "text/plain": [
       "lat      414\n",
       "lng      414\n",
       "city     414\n",
       "state    414\n",
       "date     414\n",
       "year     414\n",
       "month    414\n",
       "dtype: int64"
      ]
     },
     "execution_count": 3,
     "metadata": {},
     "output_type": "execute_result"
    }
   ],
   "source": [
    "a.count()"
   ]
  },
  {
   "cell_type": "code",
   "execution_count": 4,
   "metadata": {},
   "outputs": [
    {
     "data": {
      "text/plain": [
       "414"
      ]
     },
     "execution_count": 4,
     "metadata": {},
     "output_type": "execute_result"
    }
   ],
   "source": [
    "len(a[\"date\"].unique())"
   ]
  },
  {
   "cell_type": "code",
   "execution_count": 5,
   "metadata": {},
   "outputs": [],
   "source": [
    "Google_data = pd.read_csv(Google_csv)\n",
    "Google_data.dropna(inplace=True)\n",
    "Google_data.reset_index(inplace =True)"
   ]
  },
  {
   "cell_type": "code",
   "execution_count": 6,
   "metadata": {},
   "outputs": [],
   "source": [
    "Distance = []\n",
    "# Google_data.head(10)\n",
    "# Google_data[\"lat\"][6]"
   ]
  },
  {
   "cell_type": "code",
   "execution_count": 7,
   "metadata": {
    "scrolled": false
   },
   "outputs": [],
   "source": [
    "for i in range(len(Google_data)):\n",
    "    coords_sighting = (Google_data[\"lat\"][i],Google_data[\"lng\"][i])\n",
    "    coords_airport = (Google_data[\"Lat Airport\"][i],Google_data[\"Lng Airport\"][i])\n",
    "    Distance.append (geopy.distance.geodesic(coords_sighting, coords_airport).km)\n",
    "#     print (geopy.distance.geodesic(coords_sighting, coords_airport).km)\n"
   ]
  },
  {
   "cell_type": "code",
   "execution_count": 8,
   "metadata": {},
   "outputs": [],
   "source": [
    "Google_data[\"Distance\"] = Distance"
   ]
  },
  {
   "cell_type": "code",
   "execution_count": 9,
   "metadata": {},
   "outputs": [
    {
     "data": {
      "text/html": [
       "<div>\n",
       "<style scoped>\n",
       "    .dataframe tbody tr th:only-of-type {\n",
       "        vertical-align: middle;\n",
       "    }\n",
       "\n",
       "    .dataframe tbody tr th {\n",
       "        vertical-align: top;\n",
       "    }\n",
       "\n",
       "    .dataframe thead th {\n",
       "        text-align: right;\n",
       "    }\n",
       "</style>\n",
       "<table border=\"1\" class=\"dataframe\">\n",
       "  <thead>\n",
       "    <tr style=\"text-align: right;\">\n",
       "      <th></th>\n",
       "      <th>index</th>\n",
       "      <th>Unnamed: 0</th>\n",
       "      <th>lat</th>\n",
       "      <th>lng</th>\n",
       "      <th>city</th>\n",
       "      <th>state</th>\n",
       "      <th>date</th>\n",
       "      <th>year</th>\n",
       "      <th>month</th>\n",
       "      <th>Airport Name</th>\n",
       "      <th>Lat Airport</th>\n",
       "      <th>Lng Airport</th>\n",
       "      <th>Distance</th>\n",
       "    </tr>\n",
       "  </thead>\n",
       "  <tbody>\n",
       "    <tr>\n",
       "      <th>0</th>\n",
       "      <td>1</td>\n",
       "      <td>1</td>\n",
       "      <td>51.266667</td>\n",
       "      <td>-80.650000</td>\n",
       "      <td>Moosonee (Canada)</td>\n",
       "      <td>ON</td>\n",
       "      <td>2007-01-18T17:30:00.000Z</td>\n",
       "      <td>2007</td>\n",
       "      <td>1</td>\n",
       "      <td>Moosonee Airport</td>\n",
       "      <td>51.289703</td>\n",
       "      <td>-80.612741</td>\n",
       "      <td>3.650675</td>\n",
       "    </tr>\n",
       "    <tr>\n",
       "      <th>1</th>\n",
       "      <td>2</td>\n",
       "      <td>2</td>\n",
       "      <td>52.923989</td>\n",
       "      <td>-82.428349</td>\n",
       "      <td>Attawapiskat (Canada)</td>\n",
       "      <td>ON</td>\n",
       "      <td>2012-10-08T21:45:00.000Z</td>\n",
       "      <td>2012</td>\n",
       "      <td>10</td>\n",
       "      <td>Attawapiskat Airport</td>\n",
       "      <td>52.926554</td>\n",
       "      <td>-82.430475</td>\n",
       "      <td>0.319252</td>\n",
       "    </tr>\n",
       "    <tr>\n",
       "      <th>2</th>\n",
       "      <td>3</td>\n",
       "      <td>3</td>\n",
       "      <td>50.178516</td>\n",
       "      <td>-86.713331</td>\n",
       "      <td>Northern Canada</td>\n",
       "      <td>ON</td>\n",
       "      <td>1995-02-06T01:00:00.000Z</td>\n",
       "      <td>1995</td>\n",
       "      <td>2</td>\n",
       "      <td>Hutchison Lake Waterdrome</td>\n",
       "      <td>49.784780</td>\n",
       "      <td>-86.940019</td>\n",
       "      <td>46.715300</td>\n",
       "    </tr>\n",
       "    <tr>\n",
       "      <th>3</th>\n",
       "      <td>4</td>\n",
       "      <td>4</td>\n",
       "      <td>48.773899</td>\n",
       "      <td>-91.638603</td>\n",
       "      <td>Atikokan (Canada)</td>\n",
       "      <td>ON</td>\n",
       "      <td>2010-09-28T22:00:00.000Z</td>\n",
       "      <td>2010</td>\n",
       "      <td>9</td>\n",
       "      <td>Atikokan Airport</td>\n",
       "      <td>48.771296</td>\n",
       "      <td>-91.637361</td>\n",
       "      <td>0.303492</td>\n",
       "    </tr>\n",
       "    <tr>\n",
       "      <th>4</th>\n",
       "      <td>5</td>\n",
       "      <td>5</td>\n",
       "      <td>48.716220</td>\n",
       "      <td>-86.375895</td>\n",
       "      <td>Marathon</td>\n",
       "      <td>ON</td>\n",
       "      <td>2014-06-14T22:00:00.000Z</td>\n",
       "      <td>2014</td>\n",
       "      <td>6</td>\n",
       "      <td>Marathon Airport</td>\n",
       "      <td>48.759111</td>\n",
       "      <td>-86.348956</td>\n",
       "      <td>5.164921</td>\n",
       "    </tr>\n",
       "  </tbody>\n",
       "</table>\n",
       "</div>"
      ],
      "text/plain": [
       "   index  Unnamed: 0        lat        lng                   city state  \\\n",
       "0      1           1  51.266667 -80.650000      Moosonee (Canada)    ON   \n",
       "1      2           2  52.923989 -82.428349  Attawapiskat (Canada)    ON   \n",
       "2      3           3  50.178516 -86.713331        Northern Canada    ON   \n",
       "3      4           4  48.773899 -91.638603      Atikokan (Canada)    ON   \n",
       "4      5           5  48.716220 -86.375895               Marathon    ON   \n",
       "\n",
       "                       date  year  month               Airport Name  \\\n",
       "0  2007-01-18T17:30:00.000Z  2007      1           Moosonee Airport   \n",
       "1  2012-10-08T21:45:00.000Z  2012     10       Attawapiskat Airport   \n",
       "2  1995-02-06T01:00:00.000Z  1995      2  Hutchison Lake Waterdrome   \n",
       "3  2010-09-28T22:00:00.000Z  2010      9           Atikokan Airport   \n",
       "4  2014-06-14T22:00:00.000Z  2014      6           Marathon Airport   \n",
       "\n",
       "   Lat Airport  Lng Airport   Distance  \n",
       "0    51.289703   -80.612741   3.650675  \n",
       "1    52.926554   -82.430475   0.319252  \n",
       "2    49.784780   -86.940019  46.715300  \n",
       "3    48.771296   -91.637361   0.303492  \n",
       "4    48.759111   -86.348956   5.164921  "
      ]
     },
     "execution_count": 9,
     "metadata": {},
     "output_type": "execute_result"
    }
   ],
   "source": [
    "Google_data.head()"
   ]
  },
  {
   "cell_type": "code",
   "execution_count": 10,
   "metadata": {},
   "outputs": [],
   "source": [
    "Google_data.to_csv(\"CSV_files\\Airport_distance.csv\")"
   ]
  },
  {
   "cell_type": "code",
   "execution_count": null,
   "metadata": {},
   "outputs": [],
   "source": []
  }
 ],
 "metadata": {
  "kernelspec": {
   "display_name": "Python 3",
   "language": "python",
   "name": "python3"
  },
  "language_info": {
   "codemirror_mode": {
    "name": "ipython",
    "version": 3
   },
   "file_extension": ".py",
   "mimetype": "text/x-python",
   "name": "python",
   "nbconvert_exporter": "python",
   "pygments_lexer": "ipython3",
   "version": "3.7.3"
  }
 },
 "nbformat": 4,
 "nbformat_minor": 2
}
